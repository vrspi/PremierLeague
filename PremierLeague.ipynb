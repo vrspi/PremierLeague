{
  "nbformat": 4,
  "nbformat_minor": 0,
  "metadata": {
    "colab": {
      "name": "PremierLeague.ipynb",
      "provenance": [],
      "collapsed_sections": [],
      "authorship_tag": "ABX9TyMAy0qfUC+tYJjESWOBOEad",
      "include_colab_link": true
    },
    "kernelspec": {
      "name": "python3",
      "display_name": "Python 3"
    },
    "language_info": {
      "name": "python"
    }
  },
  "cells": [
    {
      "cell_type": "markdown",
      "metadata": {
        "id": "view-in-github",
        "colab_type": "text"
      },
      "source": [
        "<a href=\"https://colab.research.google.com/github/vrspi/PremierLeague/blob/main/PremierLeague.ipynb\" target=\"_parent\"><img src=\"https://colab.research.google.com/assets/colab-badge.svg\" alt=\"Open In Colab\"/></a>"
      ]
    },
    {
      "cell_type": "code",
      "execution_count": 81,
      "metadata": {
        "id": "MeCDQ27gx_kJ"
      },
      "outputs": [],
      "source": [
        "import numpy as np\n",
        "import pandas as pd\n",
        "import matplotlib.pyplot as plt"
      ]
    },
    {
      "cell_type": "code",
      "source": [
        "from dateutil import parser\n",
        "from sklearn.preprocessing import LabelEncoder\n",
        "\n",
        "from datetime import datetime\n",
        "\n",
        "Dataset = pd.read_csv(\"results.csv\",encoding='windows-1252')\n",
        "Dataset[\"DateTime\"]=Dataset[\"DateTime\"].apply(lambda x: datetime.strptime(x, '%Y-%m-%dT%H:%M:%SZ'))\n",
        "Dataset[\"DateTime\"] = Dataset[\"DateTime\"].dt.date\n",
        "Dataset.insert(0,'Year',Dataset[\"DateTime\"].apply(lambda datetime : datetime.year))\n",
        "Dataset.insert(0,'Month',Dataset[\"DateTime\"].apply(lambda datetime : datetime.month))\n",
        "Dataset.insert(0,'Day',Dataset[\"DateTime\"].apply(lambda datetime : datetime.day))\n",
        "Dataset.drop(['DateTime', 'Season'], axis=1, inplace=True)\n",
        "Dataset['Match Goals'] = Dataset.iloc[:,5].values+Dataset.iloc[:,6].values\n",
        "\n",
        "\n",
        "Dataset.drop(['FTHG','FTAG','FTR','HTHG','HTAG','HTR','Referee','HS','AS','HST','AST','HC','AC','HF','AF','HY','AY','HR','AR'], axis=1, inplace=True)\n",
        "\n",
        "\n",
        "\n",
        "print(Dataset.iloc[0:1,:].values)\n"
      ],
      "metadata": {
        "colab": {
          "base_uri": "https://localhost:8080/"
        },
        "id": "uM5YYzLQzD7f",
        "outputId": "8c09ae3d-64f1-4b11-d78c-e844d354dab4"
      },
      "execution_count": 84,
      "outputs": [
        {
          "output_type": "stream",
          "name": "stdout",
          "text": [
            "[[14 8 1993 'Arsenal' 'Coventry' 3]]\n"
          ]
        }
      ]
    },
    {
      "cell_type": "code",
      "source": [
        "X = Dataset.iloc[:,:-1].values\n",
        "Y = Dataset.iloc[:,-1:].values\n"
      ],
      "metadata": {
        "id": "3g2DVolmQvdL"
      },
      "execution_count": 85,
      "outputs": []
    },
    {
      "cell_type": "code",
      "source": [
        "print(X)"
      ],
      "metadata": {
        "colab": {
          "base_uri": "https://localhost:8080/"
        },
        "id": "MF9iEsmEROyI",
        "outputId": "48c7645c-aadd-404c-a872-2dd107ac7a16"
      },
      "execution_count": null,
      "outputs": [
        {
          "output_type": "stream",
          "name": "stdout",
          "text": [
            "[[14 8 1993 'Arsenal' 'Coventry']\n",
            " [14 8 1993 'Aston Villa' 'QPR']\n",
            " [14 8 1993 'Chelsea' 'Blackburn']\n",
            " ...\n",
            " [3 10 2021 'Tottenham' 'Aston Villa']\n",
            " [3 10 2021 'West Ham' 'Brentford']\n",
            " [3 10 2021 'Liverpool' 'Man City']]\n"
          ]
        }
      ]
    },
    {
      "cell_type": "code",
      "source": [
        "print(Y)"
      ],
      "metadata": {
        "id": "fyxovymKRTTM"
      },
      "execution_count": null,
      "outputs": []
    },
    {
      "cell_type": "code",
      "source": [
        "from sklearn.preprocessing import OneHotEncoder\n",
        "from sklearn.compose import ColumnTransformer\n",
        "\n",
        "Ct = ColumnTransformer(transformers=[('cat',OneHotEncoder(),[3,4])],remainder='passthrough')\n",
        "\n",
        "\n",
        "X = Ct.fit_transform(X)\n"
      ],
      "metadata": {
        "id": "iy8875YRRWYC"
      },
      "execution_count": 86,
      "outputs": []
    },
    {
      "cell_type": "code",
      "source": [
        "print(X[1])"
      ],
      "metadata": {
        "colab": {
          "base_uri": "https://localhost:8080/"
        },
        "id": "1pZpj06BUCMc",
        "outputId": "9bc86279-af19-4bf2-bb12-765e5c935052"
      },
      "execution_count": 101,
      "outputs": [
        {
          "output_type": "stream",
          "name": "stdout",
          "text": [
            "  (0, 1)\t1.0\n",
            "  (0, 84)\t1.0\n",
            "  (0, 100)\t14.0\n",
            "  (0, 101)\t8.0\n",
            "  (0, 102)\t1993.0\n"
          ]
        }
      ]
    },
    {
      "cell_type": "code",
      "source": [
        "from sklearn.model_selection  import train_test_split\n",
        "X_Train,X_Test,Y_Train,Y_Test = train_test_split(X,Y,test_size=0.2,  random_state = 0) "
      ],
      "metadata": {
        "id": "bEVwwGArUeAz"
      },
      "execution_count": 102,
      "outputs": []
    },
    {
      "cell_type": "code",
      "source": [
        "print(X_Train)"
      ],
      "metadata": {
        "id": "8BkgHnayVD7i"
      },
      "execution_count": null,
      "outputs": []
    },
    {
      "cell_type": "code",
      "source": [
        "print(X_Test)"
      ],
      "metadata": {
        "id": "gFwKELaLVJSE"
      },
      "execution_count": null,
      "outputs": []
    },
    {
      "cell_type": "code",
      "source": [
        "from sklearn.linear_model import LinearRegression\n",
        "\n",
        "Model = LinearRegression()\n",
        "Model.fit(X_Train,Y_Train)"
      ],
      "metadata": {
        "colab": {
          "base_uri": "https://localhost:8080/"
        },
        "id": "qV91nMJTVOR7",
        "outputId": "1ae23cfb-762f-4ad3-bf78-c6dd0032ac0a"
      },
      "execution_count": 103,
      "outputs": [
        {
          "output_type": "execute_result",
          "data": {
            "text/plain": [
              "LinearRegression()"
            ]
          },
          "metadata": {},
          "execution_count": 103
        }
      ]
    },
    {
      "cell_type": "code",
      "source": [
        "print(Model.predict(X_Test))"
      ],
      "metadata": {
        "colab": {
          "base_uri": "https://localhost:8080/"
        },
        "id": "kBlfWqB2Ve3K",
        "outputId": "75ab62be-5fde-42c4-e38d-c18330dda915"
      },
      "execution_count": 109,
      "outputs": [
        {
          "output_type": "stream",
          "name": "stdout",
          "text": [
            "[2.86693043]\n"
          ]
        }
      ]
    }
  ]
}