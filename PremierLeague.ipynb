{
  "nbformat": 4,
  "nbformat_minor": 0,
  "metadata": {
    "colab": {
      "name": "PremierLeague.ipynb",
      "provenance": [],
      "authorship_tag": "ABX9TyORqaJXeurY5K0REio5bwQy",
      "include_colab_link": true
    },
    "kernelspec": {
      "name": "python3",
      "display_name": "Python 3"
    },
    "language_info": {
      "name": "python"
    }
  },
  "cells": [
    {
      "cell_type": "markdown",
      "metadata": {
        "id": "view-in-github",
        "colab_type": "text"
      },
      "source": [
        "<a href=\"https://colab.research.google.com/github/vrspi/PremierLeague/blob/main/PremierLeague.ipynb\" target=\"_parent\"><img src=\"https://colab.research.google.com/assets/colab-badge.svg\" alt=\"Open In Colab\"/></a>"
      ]
    },
    {
      "cell_type": "code",
      "execution_count": null,
      "metadata": {
        "id": "MeCDQ27gx_kJ"
      },
      "outputs": [],
      "source": [
        "import numpy as np\n",
        "import pandas as pd\n",
        "import matplotlib.pyplot as plt"
      ]
    },
    {
      "cell_type": "code",
      "source": [
        "from dateutil import parser\n",
        "\n",
        "\n",
        "from datetime import datetime\n",
        "\n",
        "Dataset = pd.read_csv(\"results.csv\",encoding='windows-1252')\n",
        "Dataset[\"DateTime\"]=Dataset[\"DateTime\"].apply(lambda x: datetime.strptime(x, '%Y-%m-%dT%H:%M:%SZ'))\n",
        "Dataset[\"DateTime\"] = Dataset[\"DateTime\"].dt.date\n",
        "Dataset.insert(0,'Year',Dataset[\"DateTime\"].apply(lambda datetime : datetime.year))\n",
        "Dataset.insert(0,'Month',Dataset[\"DateTime\"].apply(lambda datetime : datetime.month))\n",
        "Dataset.insert(0,'Day',Dataset[\"DateTime\"].apply(lambda datetime : datetime.day))\n",
        "Dataset.drop(['DateTime', 'Season'], axis=1, inplace=True)\n",
        "Dataset['Match Goals'] = Dataset.iloc[:,5].values+Dataset.iloc[:,6].values\n",
        "Dataset.drop(['FTHG','FTAG','FTR','HTHG','HTAG','HTR','Referee','HS','AS','HST','AST','HC','AC','HF','AF','HY','AY','HR','AR'], axis=1, inplace=True)\n",
        "\n",
        "\n",
        "\n",
        "\n",
        "print(Dataset)\n"
      ],
      "metadata": {
        "colab": {
          "base_uri": "https://localhost:8080/"
        },
        "id": "uM5YYzLQzD7f",
        "outputId": "8b97540d-ec0d-4d0b-fb32-6691a7e24ef4"
      },
      "execution_count": null,
      "outputs": [
        {
          "output_type": "stream",
          "name": "stdout",
          "text": [
            "       Day  Month  Year        HomeTeam        AwayTeam  Match Goals\n",
            "0       14      8  1993         Arsenal        Coventry            3\n",
            "1       14      8  1993     Aston Villa             QPR            5\n",
            "2       14      8  1993         Chelsea       Blackburn            3\n",
            "3       14      8  1993       Liverpool  Sheffield Weds            2\n",
            "4       14      8  1993        Man City           Leeds            2\n",
            "...    ...    ...   ...             ...             ...          ...\n",
            "10869    2     10  2021        Brighton         Arsenal            0\n",
            "10870    3     10  2021  Crystal Palace       Leicester            4\n",
            "10871    3     10  2021       Tottenham     Aston Villa            3\n",
            "10872    3     10  2021        West Ham       Brentford            3\n",
            "10873    3     10  2021       Liverpool        Man City            4\n",
            "\n",
            "[10874 rows x 6 columns]\n"
          ]
        }
      ]
    }
  ]
}